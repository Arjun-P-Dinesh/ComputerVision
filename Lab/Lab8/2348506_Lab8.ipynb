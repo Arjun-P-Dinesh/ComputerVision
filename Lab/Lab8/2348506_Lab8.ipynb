{
  "cells": [
    {
      "cell_type": "code",
      "execution_count": null,
      "metadata": {
        "id": "HMqV7DKcgRVc"
      },
      "outputs": [],
      "source": [
        "import cv2\n",
        "import numpy as np\n",
        "from matplotlib import pyplot as plt"
      ]
    },
    {
      "cell_type": "markdown",
      "metadata": {},
      "source": []
    },
    {
      "cell_type": "code",
      "execution_count": null,
      "metadata": {},
      "outputs": [],
      "source": [
        "!curl -o dakar.jpeg https://cdn-attachments.timesofmalta.com/c3a8dbe749942cf33455101f6b49408e6fe26312-1682080283-aa2566a0-960x640.jpg\n",
        "\n",
        "image_path = 'dakar.jpeg'\n",
        "img = cv2.imread(image_path, cv2.IMREAD_GRAYSCALE)"
      ]
    },
    {
      "cell_type": "code",
      "execution_count": null,
      "metadata": {},
      "outputs": [],
      "source": [
        "plt.imshow(img, cmap='grey')\n",
        "plt.title('Original Image')\n",
        "plt.axis('off')\n",
        "plt.show()\n"
      ]
    },
    {
      "cell_type": "markdown",
      "metadata": {
        "id": "lZf05zrlgi33"
      },
      "source": [
        "# First Order Derivative - Sobel Edge Detector\n",
        "\n",
        "* First order derivative methods detect edges by looking for the maximum and minimum in the first derivative of the image. Essentially, they highlight regions where the intensity of the image changes sharply, which are typically associated with edges. The most common first-order derivative method is the Sobel operator."
      ]
    },
    {
      "cell_type": "code",
      "execution_count": null,
      "metadata": {
        "id": "IhH420gvggIs"
      },
      "outputs": [],
      "source": [
        "sobelx = cv2.Sobel(img, cv2.CV_64F, 1, 0, ksize=5)\n",
        "sobely = cv2.Sobel(img, cv2.CV_64F, 0, 1, ksize=5)\n",
        "sobel_combined = cv2.magnitude(sobelx, sobely)"
      ]
    },
    {
      "cell_type": "markdown",
      "metadata": {
        "id": "VrY3s-4pgyfD"
      },
      "source": [
        "# Second Order Derivative - Laplacian\n",
        "\n",
        "* Second order derivative methods, such as the Laplacian operator, detect edges by identifying zero-crossings in the second derivative of the image. A zero-crossing indicates a point where the rate of change of intensity changes sign, which often corresponds to the center of an edge."
      ]
    },
    {
      "cell_type": "code",
      "execution_count": null,
      "metadata": {
        "id": "lmHg5LCWg1ZZ"
      },
      "outputs": [],
      "source": [
        "laplacian = cv2.Laplacian(img, cv2.CV_64F)\n",
        "\n",
        "laplacian_abs = np.absolute(laplacian)\n",
        "laplacian_8u = np.uint8(laplacian_abs)"
      ]
    },
    {
      "cell_type": "markdown",
      "metadata": {
        "id": "U2VOAFZfg4a5"
      },
      "source": [
        "# Optimum Edge Detection - Canny\n",
        "* An optimal edge detector would accurately detect all true edges, accurately localize them, and only detect each edge once. Canny edge detection is often considered close to an \"optimum\" edge detection method due to its criteria for noise reduction, edge detection, and edge localization."
      ]
    },
    {
      "cell_type": "code",
      "execution_count": null,
      "metadata": {
        "id": "D3cCS0AEg7Iz"
      },
      "outputs": [],
      "source": [
        "canny = cv2.Canny(img, 100, 200)"
      ]
    },
    {
      "cell_type": "code",
      "execution_count": null,
      "metadata": {
        "colab": {
          "base_uri": "https://localhost:8080/",
          "height": 829
        },
        "id": "FFAZVJGpgwqh",
        "outputId": "1e7e48c6-f545-4f33-a853-9ddb8705b6d3"
      },
      "outputs": [],
      "source": [
        "plt.figure(figsize=(8, 10))\n",
        "\n",
        "plt.subplot(2, 2, 1), plt.imshow(img, cmap='gray')\n",
        "plt.title('Original Image'), plt.xticks([]), plt.yticks([])\n",
        "\n",
        "plt.subplot(2, 2, 2), plt.imshow(sobel_combined, cmap='gray')\n",
        "plt.title('Sobel Edge Detection'), plt.xticks([]), plt.yticks([])\n",
        "\n",
        "plt.subplot(2, 2, 3), plt.imshow(laplacian_8u, cmap='gray')\n",
        "plt.title('Laplacian Edge Detection'), plt.xticks([]), plt.yticks([])\n",
        "\n",
        "plt.subplot(2, 2, 4), plt.imshow(canny, cmap='gray')\n",
        "plt.title('Canny Edge Detection'), plt.xticks([]), plt.yticks([])\n",
        "\n",
        "plt.show()"
      ]
    },
    {
      "cell_type": "markdown",
      "metadata": {
        "id": "OFd9kQWJh9On"
      },
      "source": [
        "*  First order methods are particularly good at detecting large, pronounced edges. However, they can be sensitive to noise, as noise can also cause rapid changes in intensity.\n",
        "* Second order methods are sensitive to finer edges than first order methods and can more accurately localize edges because they seek the point where the rate of change of intensity peaks. However, they are even more sensitive to noise than first order methods because noise can significantly affect the rate of change of intensity.\n",
        "* The Canny edge detector is designed to be an optimal balance between various factors such as detection and localization accuracy, and robustness to noise. It typically produces well-defined edges and is less likely to be fooled by noise or subtle changes in intensity compared to the first and second order methods.\n",
        "\n",
        "** first order methods are useful for detecting prominent edges but are sensitive to noise, second order methods are better for fine edge detection but even more sensitive to noise, and methods like the Canny edge detector aim to provide a balanced, robust solution for edge detection across a variety of conditions."
      ]
    }
  ],
  "metadata": {
    "colab": {
      "include_colab_link": true,
      "provenance": []
    },
    "kernelspec": {
      "display_name": "Python 3",
      "name": "python3"
    },
    "language_info": {
      "codemirror_mode": {
        "name": "ipython",
        "version": 3
      },
      "file_extension": ".py",
      "mimetype": "text/x-python",
      "name": "python",
      "nbconvert_exporter": "python",
      "pygments_lexer": "ipython3",
      "version": "3.12.1"
    }
  },
  "nbformat": 4,
  "nbformat_minor": 0
}
