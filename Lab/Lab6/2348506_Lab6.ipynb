{
 "cells": [
  {
   "cell_type": "markdown",
   "metadata": {},
   "source": [
    "# Lab- 6 <br>\n",
    "## Implement Non-Linear Spatial Filtering using Built-in and user defined functions\n",
    "#### Median filter\n",
    "#### Max and min filters\n",
    "#### Mid-point filter\n",
    "#### Alpha-trimmed filters"
   ]
  },
  {
   "cell_type": "code",
   "execution_count": null,
   "metadata": {},
   "outputs": [],
   "source": []
  }
 ],
 "metadata": {
  "language_info": {
   "name": "python"
  }
 },
 "nbformat": 4,
 "nbformat_minor": 2
}
